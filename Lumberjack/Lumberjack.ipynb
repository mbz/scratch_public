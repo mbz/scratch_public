{
 "cells": [
  {
   "cell_type": "code",
   "execution_count": 12,
   "metadata": {
    "collapsed": false
   },
   "outputs": [],
   "source": [
    "import pyscreenshot as ImageGrab\n",
    "import numpy as np\n",
    "import pyautogui\n",
    "import matplotlib.pyplot as plt\n",
    "import time\n",
    "%matplotlib inline"
   ]
  },
  {
   "cell_type": "code",
   "execution_count": 85,
   "metadata": {
    "collapsed": true
   },
   "outputs": [],
   "source": [
    "def right(click_only=False):\n",
    "    if not click_only:\n",
    "        pyautogui.moveTo(1500, 840)\n",
    "    pyautogui.click()\n",
    "    pyautogui.click()\n",
    "def left(click_only=False):\n",
    "    if not click_only:\n",
    "        # pyautogui.moveTo(2450, 840)\n",
    "        pyautogui.moveTo(1350, 840)\n",
    "    pyautogui.click()\n",
    "    pyautogui.click()"
   ]
  },
  {
   "cell_type": "code",
   "execution_count": 90,
   "metadata": {
    "collapsed": false
   },
   "outputs": [],
   "source": [
    "# Assuming we start from right\n",
    "# 1 right, 0 left\n",
    "last_pos = 1\n",
    "for i in range(50):\n",
    "    x1, y1 = (525, 1500)\n",
    "    im = pyautogui.screenshot()\n",
    "\n",
    "    for j in range(5):\n",
    "        if im.getpixel((y1, x1-j*100))[2] > 150:\n",
    "            right(last_pos==1)\n",
    "            last_pos=1\n",
    "        else:\n",
    "            left(last_pos==0)\n",
    "            last_pos=0\n",
    "    time.sleep(0.05)"
   ]
  },
  {
   "cell_type": "code",
   "execution_count": null,
   "metadata": {
    "collapsed": true
   },
   "outputs": [],
   "source": []
  }
 ],
 "metadata": {
  "anaconda-cloud": {},
  "kernelspec": {
   "display_name": "Python 3",
   "language": "python",
   "name": "python3"
  },
  "language_info": {
   "codemirror_mode": {
    "name": "ipython",
    "version": 3
   },
   "file_extension": ".py",
   "mimetype": "text/x-python",
   "name": "python",
   "nbconvert_exporter": "python",
   "pygments_lexer": "ipython3",
   "version": "3.6.0"
  }
 },
 "nbformat": 4,
 "nbformat_minor": 0
}
